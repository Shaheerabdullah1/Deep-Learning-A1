{
 "cells": [
  {
   "cell_type": "markdown",
   "id": "76cb7ea3",
   "metadata": {},
   "source": [
    "# Task 1 \n",
    "# I201861 Shaheer Abdullah"
   ]
  },
  {
   "cell_type": "code",
   "execution_count": 36,
   "id": "267a4b79",
   "metadata": {},
   "outputs": [],
   "source": [
    "import os\n",
    "import numpy as np\n",
    "import pandas as pd\n",
    "import matplotlib.pyplot as plt\n",
    "from sklearn.neural_network import MLPClassifier\n",
    "#GridSearchCV\n",
    "from sklearn.model_selection import GridSearchCV"
   ]
  },
  {
   "cell_type": "code",
   "execution_count": 2,
   "id": "f22416c1",
   "metadata": {},
   "outputs": [],
   "source": [
    "def read_dataset(data_dir):\n",
    "    data = []\n",
    "    labels = []\n",
    "\n",
    "    for image_file in os.listdir(data_dir):\n",
    "\n",
    "        image_path = os.path.join(data_dir, image_file)\n",
    "        image = plt.imread(image_path)\n",
    "        data.append(image.flatten())\n",
    "        label = int(image_file.split('.')[0].replace('subject',''))-1\n",
    "        labels.append(label)\n",
    "    \n",
    "    return np.array(data), np.array(labels)\n"
   ]
  },
  {
   "cell_type": "code",
   "execution_count": 3,
   "id": "55cc90ea",
   "metadata": {},
   "outputs": [],
   "source": [
    "import warnings \n",
    "warnings.filterwarnings('ignore')\n",
    "from sklearn.model_selection import train_test_split\n",
    "\n",
    "def split_data(data, labels, test_size=0.2):\n",
    "    X_train, X_test, y_train, y_test = train_test_split(data, labels, test_size=test_size, random_state=42)\n",
    "    return X_train, X_test, y_train, y_test\n"
   ]
  },
  {
   "cell_type": "code",
   "execution_count": 20,
   "id": "eedb40dc",
   "metadata": {},
   "outputs": [],
   "source": [
    "import numpy as np\n",
    "\n",
    "class MLPClassifier:\n",
    "    def __init__(self, input_size, hidden_layers, neurons_per_layer, output_size, learning_rate):\n",
    "        self.layers = [input_size] + neurons_per_layer + [output_size]\n",
    "        self.weights = [np.random.randn(self.layers[i], self.layers[i+1]) for i in range(len(self.layers) - 1)]\n",
    "        self.biases = [np.zeros((1, size)) for size in self.layers[1:]]\n",
    "        \n",
    "        self.activation_function = self.sigmoid\n",
    "        self.learning_rate = learning_rate\n",
    "\n",
    "    def sigmoid(self, x):\n",
    "        return 1 / (1 + np.exp(-x))\n",
    "\n",
    "    def sigmoid_derivative(self, x):\n",
    "        return x * (1 - x)\n",
    "\n",
    "    def forward(self, X):\n",
    "        activations = [X]\n",
    "        for i in range(len(self.layers) - 1):\n",
    "            weighted_sum = np.dot(activations[-1], self.weights[i]) + self.biases[i]\n",
    "            activation = self.activation_function(weighted_sum)\n",
    "            activations.append(activation)\n",
    "        return activations\n",
    "\n",
    "    def backward(self, X, y, activations):\n",
    "        deltas = [None] * (len(self.layers) - 1)\n",
    "        deltas[-1] = (activations[-1] - y) * self.sigmoid_derivative(activations[-1])\n",
    "        for i in reversed(range(len(deltas) - 1)):\n",
    "            deltas[i] = np.dot(deltas[i+1], self.weights[i+1].T) * self.sigmoid_derivative(activations[i+1])\n",
    "\n",
    "        gradients_weights = [np.dot(activations[i].T.reshape((activations[i].T.shape[0],1)), deltas[i]) for i in range(len(deltas))]\n",
    "        gradients_biases = [np.sum(deltas[i], axis=0) for i in range(len(deltas))]\n",
    "\n",
    "        return gradients_weights, gradients_biases\n",
    "\n",
    "    def train(self, X_train, y_train, epochs):\n",
    "        for e in range(epochs):\n",
    "            print(f'Epoch-{e+1}')\n",
    "            for i in range(len(X_train)):\n",
    "                X = X_train[i]\n",
    "                y = np.zeros((1, self.layers[-1]))\n",
    "                y[0, y_train[i]] = 1\n",
    "\n",
    "                activations = self.forward(X)\n",
    "                gradients_weights, gradients_biases = self.backward(X, y, activations)\n",
    "\n",
    "                for j in range(len(self.weights)):\n",
    "                    self.weights[j] -= self.learning_rate * gradients_weights[j]\n",
    "                    self.biases[j] -= self.learning_rate * gradients_biases[j]\n"
   ]
  },
  {
   "cell_type": "code",
   "execution_count": 7,
   "id": "c7c2b227",
   "metadata": {},
   "outputs": [],
   "source": [
    "data, labels = read_dataset('./Task1_Data')"
   ]
  },
  {
   "cell_type": "code",
   "execution_count": 8,
   "id": "df01f33c",
   "metadata": {},
   "outputs": [],
   "source": [
    "X_train, X_test, y_train, y_test = split_data(data, labels, test_size=0.2)\n"
   ]
  },
  {
   "cell_type": "code",
   "execution_count": 31,
   "id": "2f3873c1",
   "metadata": {},
   "outputs": [
    {
     "name": "stdout",
     "output_type": "stream",
     "text": [
      "Epoch 1/10 - Train Accuracy: 1.0, Loss: 0.00025141448410773945\n",
      "Epoch 2/10 - Train Accuracy: 1.0, Loss: 0.00025671039240922203\n",
      "Epoch 3/10 - Train Accuracy: 0.9924242424242424, Loss: 0.27332505589846834\n",
      "Epoch 4/10 - Train Accuracy: 1.0, Loss: 0.00023177819627622122\n",
      "Epoch 5/10 - Train Accuracy: 1.0, Loss: 0.08227763783068959\n",
      "Epoch 6/10 - Train Accuracy: 1.0, Loss: 0.0003169783481846947\n",
      "Epoch 7/10 - Train Accuracy: 1.0, Loss: 0.00024806223653639953\n",
      "Epoch 8/10 - Train Accuracy: 1.0, Loss: 0.00025526429788017176\n",
      "Epoch 9/10 - Train Accuracy: 1.0, Loss: 0.0002546542866030972\n",
      "Epoch 10/10 - Train Accuracy: 0.9924242424242424, Loss: 0.00023188394095758597\n"
     ]
    }
   ],
   "source": [
    "input_size = X_train.shape[1]  # Adjust this based on your image dimensions\n",
    "hidden_layers = [256, 128, 64]  # Customize the hidden layer architecture\n",
    "neurons_per_layer = [256, 128, 64]  # Number of neurons in each hidden layer\n",
    "output_size = len(np.unique(labels))  # Number of classes\n",
    "learning_rate = 0.1\n",
    "epochs = 10  # Choose the number of training epochs\n",
    "\n",
    "# Define the MLP model\n",
    "model = MLPClassifier(hidden_layer_sizes=(150, 150), activation='relu', solver='adam', max_iter=1000)\n",
    "\n",
    "# Initialize empty lists to store history\n",
    "train_accuracy_history = []\n",
    "loss_history = []\n",
    "\n",
    "for epoch in range(epochs):\n",
    "    # Fit the model for one epoch\n",
    "    model.fit(X_train, y_train)\n",
    "    \n",
    "    # Calculate training accuracy for this epoch (you may need to modify this depending on your data)\n",
    "    train_accuracy = model.score(X_train, y_train)\n",
    "    \n",
    "    # Calculate loss (you may need to modify this depending on your data)\n",
    "    loss = model.loss_\n",
    "    \n",
    "    # Append the metrics to history\n",
    "    train_accuracy_history.append(train_accuracy)\n",
    "    loss_history.append(loss)\n",
    "    \n",
    "    # Print progress\n",
    "    print(f\"Epoch {epoch+1}/{epochs} - Train Accuracy: {train_accuracy}, Loss: {loss}\")\n",
    "\n",
    "# Now, train_accuracy_history and loss_history contain the history of training accuracy and loss for each epoch\n"
   ]
  },
  {
   "cell_type": "code",
   "execution_count": 32,
   "id": "221d9c42",
   "metadata": {},
   "outputs": [
    {
     "data": {
      "text/plain": [
       "0.8484848484848485"
      ]
     },
     "execution_count": 32,
     "metadata": {},
     "output_type": "execute_result"
    }
   ],
   "source": [
    "model.score(X_test,y_test)"
   ]
  },
  {
   "cell_type": "code",
   "execution_count": 41,
   "id": "fb604024",
   "metadata": {},
   "outputs": [],
   "source": [
    "epocs_dict = {\n",
    "    '1': 1.0,\n",
    "    '2': 1.0,\n",
    "    '3': 0.9924242424242424,\n",
    "    '4': 1.0,\n",
    "    '5': 1.0,\n",
    "    '6': 1.0,\n",
    "    '7': 1.0,\n",
    "    '8': 1.0,\n",
    "    '9': 1.0,\n",
    "    '10': 0.9924242424242424\n",
    "}"
   ]
  },
  {
   "cell_type": "code",
   "execution_count": 42,
   "id": "8b1f81ab",
   "metadata": {},
   "outputs": [
    {
     "data": {
      "text/plain": [
       "<Figure size 800x1600 with 0 Axes>"
      ]
     },
     "metadata": {},
     "output_type": "display_data"
    },
    {
     "data": {
      "image/png": "[encoded data removed]",
      "text/plain": [
       "<Figure size 640x480 with 1 Axes>"
      ]
     },
     "metadata": {},
     "output_type": "display_data"
    }
   ],
   "source": [
    "model_compare = pd.DataFrame(epocs_dict , index=[\"Accuracy\"])\n",
    "# Create a bar plot\n",
    "plt.figure(figsize=(8, 16))\n",
    "ax = model_compare.T.plot.bar()\n",
    "plt.ylim(0, 1.1)  # Set the Y-axis range to 0-1\n",
    "plt.title('Epochs Accuracy Comparison')\n",
    "plt.xticks(rotation=0)  # Rotate x-axis labels if needed\n",
    "plt.xlabel('Epoch')  # Add label to the x-axis\n",
    "plt.ylabel('Training Accuracy') \n",
    "plt.show()"
   ]
  },
  {
   "cell_type": "code",
   "execution_count": 46,
   "id": "690dc73c",
   "metadata": {},
   "outputs": [
    {
     "name": "stdout",
     "output_type": "stream",
     "text": [
      "Accuracy: 0.85\n",
      "Precision: 0.85\n",
      "Recall: 0.86\n",
      "F1 Score: 0.83\n"
     ]
    }
   ],
   "source": [
    "from sklearn.metrics import accuracy_score, precision_score, recall_score, f1_score\n",
    "y_pred=model.predict(X_test)\n",
    "accuracy = accuracy_score(y_test, y_pred)\n",
    "precision = precision_score(y_test, y_pred, average='macro')\n",
    "recall = recall_score(y_test, y_pred, average='macro')\n",
    "f1 = f1_score(y_test, y_pred, average='macro')\n",
    "print(f\"Accuracy: {accuracy:.2f}\")\n",
    "print(f\"Precision: {precision:.2f}\")\n",
    "print(f\"Recall: {recall:.2f}\")\n",
    "print(f\"F1 Score: {f1:.2f}\")\n"
   ]
  },
  {
   "cell_type": "code",
   "execution_count": 48,
   "id": "3bdc288e",
   "metadata": {},
   "outputs": [
    {
     "data": {
      "text/plain": [
       "<Figure size 400x300 with 0 Axes>"
      ]
     },
     "metadata": {},
     "output_type": "display_data"
    },
    {
     "data": {
      "image/png": "[encoded data removed]",
      "text/plain": [
       "<Figure size 640x480 with 1 Axes>"
      ]
     },
     "metadata": {},
     "output_type": "display_data"
    }
   ],
   "source": [
    "Metrics_dict={\n",
    "              \"Accuracy\": 0.85,\n",
    "              \"Precision\": 0.85,\n",
    "              \"F1 Score\": 0.86,\n",
    "              \"Recall\": 0.83 \n",
    "}\n",
    "model_compare = pd.DataFrame(Metrics_dict, index=[\"Score\"])\n",
    "# Create a bar plot\n",
    "plt.figure(figsize=(4, 3))\n",
    "ax = model_compare.T.plot.bar()\n",
    "plt.ylim(0, 1.1)  # Set the Y-axis range to 0-1\n",
    "plt.title('Model Evaluation Metrics')\n",
    "plt.xticks(rotation=0)  # Rotate x-axis labels if needed\n",
    "plt.show()"
   ]
  },
  {
   "cell_type": "code",
   "execution_count": null,
   "id": "b6b31576",
   "metadata": {},
   "outputs": [],
   "source": []
  }
 ],
 "metadata": {
  "kernelspec": {
   "display_name": "Python 3 (ipykernel)",
   "language": "python",
   "name": "python3"
  },
  "language_info": {
   "codemirror_mode": {
    "name": "ipython",
    "version": 3
   },
   "file_extension": ".py",
   "mimetype": "text/x-python",
   "name": "python",
   "nbconvert_exporter": "python",
   "pygments_lexer": "ipython3",
   "version": "3.10.11"
  }
 },
 "nbformat": 4,
 "nbformat_minor": 5
}
